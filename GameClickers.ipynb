{
 "cells": [
  {
   "cell_type": "markdown",
   "id": "585d1941",
   "metadata": {},
   "source": [
    "# Cookie Clicker Bot"
   ]
  },
  {
   "cell_type": "code",
   "execution_count": null,
   "id": "65159664",
   "metadata": {},
   "outputs": [],
   "source": [
    "from time import sleep\n",
    "from selenium import webdriver\n",
    "\n",
    "browser = webdriver.Firefox()\n",
    "\n",
    "browser.implicitly_wait(5)\n",
    "\n",
    "browser.get('https://orteil.dashnet.org/cookieclicker/')\n",
    "\n",
    "\n",
    "cookie_click = browser.find_element_by_xpath(\"/html/body/div[2]/div[2]/div[15]/div[8]/div[1]\")\n",
    "\n",
    "for i in range(0,10000):\n",
    "    cookie_click.click()\n",
    "    cookie_click.click()\n",
    "    cookie_click.click()\n",
    "    cookie_click.click()\n",
    "    cookie_click.click()\n",
    "    cookie_click.click()\n",
    "    cookie_click.click()\n",
    "    cookie_click.click()\n",
    "    cookie_click.click()\n",
    "    cookie_click.click()\n",
    "\n"
   ]
  },
  {
   "cell_type": "markdown",
   "id": "fdeb9ffd",
   "metadata": {},
   "source": [
    "# Type Racer"
   ]
  },
  {
   "cell_type": "code",
   "execution_count": null,
   "id": "38b86853",
   "metadata": {},
   "outputs": [],
   "source": [
    "from time import sleep\n",
    "from selenium import webdriver\n",
    "\n",
    "\n",
    "browser = webdriver.Firefox()\n",
    "\n",
    "browser.implicitly_wait(5)\n",
    "\n",
    "browser.get('https://play.typeracer.com/')\n",
    "\n",
    "# Play Button\n",
    "browser.find_element_by_xpath(\"/html/body/div[1]/div/div[1]/div/div[1]/div[2]/table/tbody/tr[2]/td[2]/div/div[1]/div/div[1]/div/a\").click()\n",
    "\n",
    "\n",
    "\n",
    "\n",
    "def run_game():\n",
    "    \n",
    "    sleep(5)\n",
    "\n",
    "    path1 = \"/html/body/div[1]/div/div[1]/div/div[1]/div[2]/table/tbody/tr[2]/td[2]/div/div[1]/div/table/tbody/tr[2]/td[3]/table/tbody/tr[2]/td/table/tbody/tr[1]/td/table/tbody/tr[1]/td/div/div/span[1]\"\n",
    "    element = browser.find_element_by_xpath(path1)\n",
    "\n",
    "    pathb = \"/html/body/div[1]/div/div[1]/div/div[1]/div[2]/table/tbody/tr[2]/td[2]/div/div[1]/div/table/tbody/tr[2]/td[3]/table/tbody/tr[2]/td/table/tbody/tr[1]/td/table/tbody/tr[1]/td/div/div/span[2]\"\n",
    "    elementb = browser.find_element_by_xpath(pathb)\n",
    "\n",
    "    path2 = \"/html/body/div[1]/div/div[1]/div/div[1]/div[2]/table/tbody/tr[2]/td[2]/div/div[1]/div/table/tbody/tr[2]/td[3]/table/tbody/tr[2]/td/table/tbody/tr[1]/td/table/tbody/tr[1]/td/div/div/span[3]\"\n",
    "    element2 = browser.find_element_by_xpath(path2)\n",
    "\n",
    "\n",
    "    combine = element.text + elementb.text+\" \"+ element2.text\n",
    "    print(combine)\n",
    "\n",
    "    inputpath = \"/html/body/div[1]/div/div[1]/div/div[1]/div[2]/table/tbody/tr[2]/td[2]/div/div[1]/div/table/tbody/tr[2]/td[3]/table/tbody/tr[2]/td/table/tbody/tr[2]/td/input\"\n",
    "\n",
    "    inputthing = browser.find_element_by_xpath(inputpath)\n",
    "\n",
    "    sleep(10)\n",
    "\n",
    "    #Hopefully start race by now\n",
    "\n",
    "    str_list = combine.split()\n",
    "    print(\"LAUNCH !!!!!!\")\n",
    "    for e in str_list:\n",
    "        new_e = e+\" \"\n",
    "        sleep(0.4)\n",
    "        inputthing.send_keys(new_e)\n",
    "\n",
    "    sleep(5)\n",
    "    play_again()\n",
    "    \n",
    "def play_again():\n",
    "    path = \"/html/body/div[1]/div/div[1]/div/div[1]/div[2]/table/tbody/tr[2]/td[2]/div/div[1]/div/table/tbody/tr[2]/td[3]/table/tbody/tr[3]/td/table/tbody/tr/td[2]/a\"\n",
    "    browser.find_element_by_xpath(path).click()\n",
    "    run_game()\n",
    "\n",
    "\n",
    "\n",
    "\n",
    "run_game()\n",
    "\n",
    "\n",
    "\n",
    "    \n"
   ]
  },
  {
   "cell_type": "code",
   "execution_count": null,
   "id": "62fec798",
   "metadata": {},
   "outputs": [],
   "source": []
  },
  {
   "cell_type": "code",
   "execution_count": null,
   "id": "24fbebd3",
   "metadata": {},
   "outputs": [],
   "source": []
  }
 ],
 "metadata": {
  "kernelspec": {
   "display_name": "Python 3",
   "language": "python",
   "name": "python3"
  },
  "language_info": {
   "codemirror_mode": {
    "name": "ipython",
    "version": 3
   },
   "file_extension": ".py",
   "mimetype": "text/x-python",
   "name": "python",
   "nbconvert_exporter": "python",
   "pygments_lexer": "ipython3",
   "version": "3.8.8"
  }
 },
 "nbformat": 4,
 "nbformat_minor": 5
}
